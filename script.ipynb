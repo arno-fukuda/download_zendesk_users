{
 "cells": [
  {
   "cell_type": "code",
   "execution_count": 5,
   "metadata": {},
   "outputs": [],
   "source": [
    "import requests\n",
    "import csv\n",
    "import time\n",
    "import base64\n",
    "import json\n"
   ]
  },
  {
   "cell_type": "code",
   "execution_count": 6,
   "metadata": {},
   "outputs": [],
   "source": [
    "def extract_users(endpoint, headers):\n",
    "    response = requests.get(endpoint, headers=headers)\n",
    "    data = response.json()\n",
    "\n",
    "    # Extract users' email and id and append them to a CSV file\n",
    "    with open('zendesk_users.csv', 'a', newline='') as csvfile:\n",
    "        writer = csv.writer(csvfile)\n",
    "        for user in data['users']:\n",
    "            email = user['email']\n",
    "            user_id = user['id']\n",
    "            writer.writerow([email, user_id])\n",
    "\n",
    "    # Check if there is a next page\n",
    "    if data['next_page']:\n",
    "        time.sleep(0.2)\n",
    "        next_page = data['next_page']\n",
    "        print(\"Processing page:\", next_page)\n",
    "        extract_users(data['next_page'], headers)"
   ]
  },
  {
   "cell_type": "code",
   "execution_count": 7,
   "metadata": {},
   "outputs": [],
   "source": [
    "with open('config.json') as config_file:\n",
    "    config = json.load(config_file)\n",
    "\n",
    "username = config['username'] + \"/token\"\n",
    "password = config['api_token']\n",
    "hostname = config['zndsk_subdomain']"
   ]
  },
  {
   "cell_type": "code",
   "execution_count": 8,
   "metadata": {},
   "outputs": [],
   "source": [
    "headers = {\n",
    "    'Authorization': 'Basic ' + base64.b64encode(f'{username}:{password}'.encode()).decode()\n",
    "}"
   ]
  },
  {
   "cell_type": "code",
   "execution_count": 9,
   "metadata": {},
   "outputs": [],
   "source": [
    "# Start extraction from the first page\n",
    "endpoint = f'https://{hostname}.zendesk.com/api/v2/users.json?page=1&role=end-user'\n",
    "extract_users(endpoint, headers)"
   ]
  },
  {
   "cell_type": "code",
   "execution_count": null,
   "metadata": {},
   "outputs": [],
   "source": []
  }
 ],
 "metadata": {
  "kernelspec": {
   "display_name": "Python 3",
   "language": "python",
   "name": "python3"
  },
  "language_info": {
   "codemirror_mode": {
    "name": "ipython",
    "version": 3
   },
   "file_extension": ".py",
   "mimetype": "text/x-python",
   "name": "python",
   "nbconvert_exporter": "python",
   "pygments_lexer": "ipython3",
   "version": "3.10.11"
  },
  "orig_nbformat": 4
 },
 "nbformat": 4,
 "nbformat_minor": 2
}
